{
 "cells": [
  {
   "cell_type": "code",
   "execution_count": 2,
   "metadata": {
    "vscode": {
     "languageId": "r"
    }
   },
   "outputs": [
    {
     "name": "stderr",
     "output_type": "stream",
     "text": [
      "── \u001b[1mAttaching packages\u001b[22m ─────────────────────────────────────── tidyverse 1.3.2 ──\n",
      "\u001b[32m✔\u001b[39m \u001b[34mggplot2\u001b[39m 3.3.6     \u001b[32m✔\u001b[39m \u001b[34mpurrr  \u001b[39m 0.3.4\n",
      "\u001b[32m✔\u001b[39m \u001b[34mtibble \u001b[39m 3.1.8     \u001b[32m✔\u001b[39m \u001b[34mdplyr  \u001b[39m 1.0.9\n",
      "\u001b[32m✔\u001b[39m \u001b[34mtidyr  \u001b[39m 1.2.0     \u001b[32m✔\u001b[39m \u001b[34mstringr\u001b[39m 1.4.1\n",
      "\u001b[32m✔\u001b[39m \u001b[34mreadr  \u001b[39m 2.1.2     \u001b[32m✔\u001b[39m \u001b[34mforcats\u001b[39m 0.5.2\n",
      "── \u001b[1mConflicts\u001b[22m ────────────────────────────────────────── tidyverse_conflicts() ──\n",
      "\u001b[31m✖\u001b[39m \u001b[34mdplyr\u001b[39m::\u001b[32mfilter()\u001b[39m masks \u001b[34mstats\u001b[39m::filter()\n",
      "\u001b[31m✖\u001b[39m \u001b[34mdplyr\u001b[39m::\u001b[32mlag()\u001b[39m    masks \u001b[34mstats\u001b[39m::lag()\n",
      "Warning message:\n",
      "\"package 'gridExtra' was built under R version 4.2.3\"\n",
      "\n",
      "Attaching package: 'gridExtra'\n",
      "\n",
      "\n",
      "The following object is masked from 'package:dplyr':\n",
      "\n",
      "    combine\n",
      "\n",
      "\n"
     ]
    }
   ],
   "source": [
    "#Import the library needed for the data\n",
    "library(tidyverse)\n",
    "library(gridExtra)"
   ]
  },
  {
   "cell_type": "code",
   "execution_count": 3,
   "metadata": {
    "vscode": {
     "languageId": "r"
    }
   },
   "outputs": [
    {
     "name": "stderr",
     "output_type": "stream",
     "text": [
      "\u001b[1mRows: \u001b[22m\u001b[34m216\u001b[39m \u001b[1mColumns: \u001b[22m\u001b[34m10\u001b[39m\n",
      "\u001b[36m──\u001b[39m \u001b[1mColumn specification\u001b[22m \u001b[36m────────────────────────────────────────────────────────\u001b[39m\n",
      "\u001b[1mDelimiter:\u001b[22m \",\"\n",
      "\u001b[31mchr\u001b[39m (1): Name\n",
      "\u001b[32mdbl\u001b[39m (9): Galaxy Number, RA H, RA M, RA S, Dec, Arcmin, Arcsec, LambdaH, LambdaK\n",
      "\n",
      "\u001b[36mℹ\u001b[39m Use `spec()` to retrieve the full column specification for this data.\n",
      "\u001b[36mℹ\u001b[39m Specify the column types or set `show_col_types = FALSE` to quiet this message.\n"
     ]
    },
    {
     "ename": "ERROR",
     "evalue": "\u001b[1m\u001b[33mError\u001b[39m in `arrange()`:\u001b[22m\n\u001b[1m\u001b[22m\u001b[33m!\u001b[39m Problem with the implicit `transmute()` step.\n\u001b[31m✖\u001b[39m Problem while computing `..1 = Vavg`.\n\u001b[1mCaused by error in `mask$eval_all_mutate()`:\u001b[22m\n\u001b[33m!\u001b[39m object 'Vavg' not found\n",
     "output_type": "error",
     "traceback": [
      "\u001b[1m\u001b[33mError\u001b[39m in `arrange()`:\u001b[22m\n\u001b[1m\u001b[22m\u001b[33m!\u001b[39m Problem with the implicit `transmute()` step.\n\u001b[31m✖\u001b[39m Problem while computing `..1 = Vavg`.\n\u001b[1mCaused by error in `mask$eval_all_mutate()`:\u001b[22m\n\u001b[33m!\u001b[39m object 'Vavg' not found\nTraceback:\n",
      "1. arrange(setNames(mutate(select(read_csv(\"GalaxyMeasures.csv\"), \n .     -Dec, -Arcmin, -Arcsec), Zh = (LambdaH - wh)/wh, Zk = (LambdaK - \n .     wk)/wk, Vh = (Zh * c)/1000, Vk = (Zk * c)/1000, Vavg = (Vh + \n .     Vk)/2, Zh = round(Zh, 5), Zk = round(Zk, 5), Vh = round(Vh, \n .     1), Vk = round(Vk, 1), Vavg = round(Vavg, 1), LambdaH = round(LambdaH, \n .     1), LambdaK = round(LambdaK, 1)), c(\"Gal #\", \"Name\", \"RA H\", \n .     \"RA M\", \"RA S\", \"λObs H-line [Å]\", \"λObs K-line [Å]\", \n .     \"Z H-line\", \"Z K-line\", \"Vrad H-line [km/s]\", \"Vrad K-line [km/s]\", \n .     \"Average Vrad [km/s]\")), Vavg)",
      "2. arrange.data.frame(setNames(mutate(select(read_csv(\"GalaxyMeasures.csv\"), \n .     -Dec, -Arcmin, -Arcsec), Zh = (LambdaH - wh)/wh, Zk = (LambdaK - \n .     wk)/wk, Vh = (Zh * c)/1000, Vk = (Zk * c)/1000, Vavg = (Vh + \n .     Vk)/2, Zh = round(Zh, 5), Zk = round(Zk, 5), Vh = round(Vh, \n .     1), Vk = round(Vk, 1), Vavg = round(Vavg, 1), LambdaH = round(LambdaH, \n .     1), LambdaK = round(LambdaK, 1)), c(\"Gal #\", \"Name\", \"RA H\", \n .     \"RA M\", \"RA S\", \"λObs H-line [Å]\", \"λObs K-line [Å]\", \n .     \"Z H-line\", \"Z K-line\", \"Vrad H-line [km/s]\", \"Vrad K-line [km/s]\", \n .     \"Average Vrad [km/s]\")), Vavg)",
      "3. arrange_rows(.data, dots)",
      "4. withCallingHandlers({\n .     transmute(new_data_frame(.data), !!!quosures)\n . }, error = function(cnd) {\n .     if (inherits(cnd, \"dplyr:::mutate_error\")) {\n .         bullets <- gsub(\"^^--arrange_quosure_\", \"..\", cnd$bullets, \n .             fixed = TRUE)\n .         names <- names2(bullets)\n .         names[names == \"\"] <- \"x\"\n .         bullets <- set_names(bullets, names)\n .         parent <- cnd$parent\n .     }\n .     else {\n .         parent <- cnd\n .         bullets <- c()\n .     }\n .     bullets <- c(\"Problem with the implicit `transmute()` step. \", \n .         bullets)\n .     abort(bullets, call = error_call, parent = parent)\n . })",
      "5. transmute(new_data_frame(.data), !!!quosures)",
      "6. transmute.data.frame(new_data_frame(.data), !!!quosures)",
      "7. mutate_cols(.data, dots, caller_env = caller_env())",
      "8. withCallingHandlers({\n .     for (i in seq_along(dots)) {\n .         context_poke(\"column\", old_current_column)\n .         quosures <- expand_across(dots[[i]])\n .         quosures_results <- vector(mode = \"list\", length = length(quosures))\n .         for (k in seq_along(quosures)) {\n .             quo <- quosures[[k]]\n .             quo_data <- attr(quo, \"dplyr:::data\")\n .             if (!is.null(quo_data$column)) {\n .                 context_poke(\"column\", quo_data$column)\n .             }\n .             chunks <- NULL\n .             result <- NULL\n .             if (quo_is_symbol(quo)) {\n .                 name <- as_string(quo_get_expr(quo))\n .                 if (name %in% names(new_columns)) {\n .                   result <- new_columns[[name]]\n .                   chunks <- mask$resolve(name)\n .                 }\n .                 else if (name %in% names(.data)) {\n .                   result <- .data[[name]]\n .                   chunks <- mask$resolve(name)\n .                 }\n .                 if (inherits(.data, \"rowwise_df\") && vec_is_list(result)) {\n .                   sizes <- list_sizes(result)\n .                   wrong <- which(sizes != 1)\n .                   if (length(wrong)) {\n .                     group <- wrong[1L]\n .                     mask$set_current_group(group)\n .                     abort(class = c(\"dplyr:::mutate_incompatible_size\", \n .                       \"dplyr:::internal_error\"), dplyr_error_data = list(result_size = sizes[group], \n .                       expected_size = 1))\n .                   }\n .                 }\n .             }\n .             else if (!quo_is_symbolic(quo) && !is.null(quo_get_expr(quo))) {\n .                 result <- quo_get_expr(quo)\n .                 result <- withCallingHandlers(vec_recycle(result, \n .                   vec_size(.data)), error = function(cnd) {\n .                   abort(class = c(\"dplyr:::mutate_constant_recycle_error\", \n .                     \"dplyr:::internal_error\"), constant_size = vec_size(result), \n .                     data_size = vec_size(.data))\n .                 })\n .                 chunks <- vec_chop(result, rows)\n .             }\n .             if (is.null(chunks)) {\n .                 if (is.null(quo_data$column)) {\n .                   chunks <- mask$eval_all_mutate(quo)\n .                 }\n .                 else {\n .                   chunks <- withCallingHandlers(mask$eval_all_mutate(quo), \n .                     error = function(cnd) {\n .                       msg <- glue(\"Problem while computing column `{quo_data$name_auto}`.\")\n .                       abort(msg, call = call(\"across\"), parent = cnd)\n .                     })\n .                 }\n .             }\n .             if (is.null(chunks)) {\n .                 next\n .             }\n .             if (is.null(result)) {\n .                 if (length(rows) == 1) {\n .                   result <- chunks[[1]]\n .                 }\n .                 else {\n .                   chunks <- dplyr_vec_cast_common(chunks, quo_data$name_auto)\n .                   result <- vec_unchop(chunks, rows)\n .                 }\n .             }\n .             quosures_results[[k]] <- list(result = result, chunks = chunks)\n .         }\n .         for (k in seq_along(quosures)) {\n .             quo <- quosures[[k]]\n .             quo_data <- attr(quo, \"dplyr:::data\")\n .             quo_result <- quosures_results[[k]]\n .             if (is.null(quo_result)) {\n .                 if (quo_data$is_named) {\n .                   name <- quo_data$name_given\n .                   new_columns[[name]] <- zap()\n .                   mask$remove(name)\n .                 }\n .                 next\n .             }\n .             result <- quo_result$result\n .             chunks <- quo_result$chunks\n .             if (!quo_data$is_named && is.data.frame(result)) {\n .                 types <- vec_ptype(result)\n .                 types_names <- names(types)\n .                 chunks_extracted <- .Call(dplyr_extract_chunks, \n .                   chunks, types)\n .                 for (j in seq_along(types)) {\n .                   mask$add_one(types_names[j], chunks_extracted[[j]], \n .                     result = result[[j]])\n .                 }\n .                 new_columns[types_names] <- result\n .             }\n .             else {\n .                 name <- quo_data$name_auto\n .                 mask$add_one(name = name, chunks = chunks, result = result)\n .                 new_columns[[name]] <- result\n .             }\n .         }\n .     }\n . }, error = function(e) {\n .     local_error_context(dots = dots, .index = i, mask = mask)\n .     bullets <- c(cnd_bullet_header(\"computing\"), mutate_bullets(e))\n .     abort(bullets, class = \"dplyr:::mutate_error\", parent = skip_internal_condition(e), \n .         bullets = bullets, call = error_call)\n . }, warning = function(w) {\n .     if (check_muffled_warning(w)) {\n .         maybe_restart(\"muffleWarning\")\n .     }\n .     local_error_context(dots = dots, .index = i, mask = mask)\n .     warn(c(cnd_bullet_header(\"computing\"), i = cnd_header(w), \n .         i = cnd_bullet_cur_group_label(what = \"warning\")))\n .     maybe_restart(\"muffleWarning\")\n . })",
      "9. mask$eval_all_mutate(quo)",
      "10. .handleSimpleError(function (e) \n  . {\n  .     local_error_context(dots = dots, .index = i, mask = mask)\n  .     bullets <- c(cnd_bullet_header(\"computing\"), mutate_bullets(e))\n  .     abort(bullets, class = \"dplyr:::mutate_error\", parent = skip_internal_condition(e), \n  .         bullets = bullets, call = error_call)\n  . }, \"object 'Vavg' not found\", base::quote(mask$eval_all_mutate(quo)))",
      "11. h(simpleError(msg, call))",
      "12. abort(bullets, class = \"dplyr:::mutate_error\", parent = skip_internal_condition(e), \n  .     bullets = bullets, call = error_call)",
      "13. signal_abort(cnd, .file)",
      "14. signalCondition(cnd)",
      "15. (function (cnd) \n  . {\n  .     if (inherits(cnd, \"dplyr:::mutate_error\")) {\n  .         bullets <- gsub(\"^^--arrange_quosure_\", \"..\", cnd$bullets, \n  .             fixed = TRUE)\n  .         names <- names2(bullets)\n  .         names[names == \"\"] <- \"x\"\n  .         bullets <- set_names(bullets, names)\n  .         parent <- cnd$parent\n  .     }\n  .     else {\n  .         parent <- cnd\n  .         bullets <- c()\n  .     }\n  .     bullets <- c(\"Problem with the implicit `transmute()` step. \", \n  .         bullets)\n  .     abort(bullets, call = error_call, parent = parent)\n  . })(structure(list(message = \"Problem while computing `^^--arrange_quosure_1 = Vavg`.\", \n  .     trace = structure(list(call = list(IRkernel::main(), kernel$run(), \n  .         handle_shell(), executor$execute(msg), tryCatch(evaluate(request$content$code, \n  .             envir = .GlobalEnv, output_handler = oh, stop_on_error = 1L), \n  .             interrupt = function(cond) {\n  .                 log_debug(\"Interrupt during execution\")\n  .                 interrupted <<- TRUE\n  .             }, error = .self$handle_error), tryCatchList(expr, \n  .             classes, parentenv, handlers), tryCatchOne(tryCatchList(expr, \n  .             names[-nh], parentenv, handlers[-nh]), names[nh], \n  .             parentenv, handlers[[nh]]), doTryCatch(return(expr), \n  .             name, parentenv, handler), tryCatchList(expr, names[-nh], \n  .             parentenv, handlers[-nh]), tryCatchOne(expr, names, \n  .             parentenv, handlers[[1L]]), doTryCatch(return(expr), \n  .             name, parentenv, handler), evaluate(request$content$code, \n  .             envir = .GlobalEnv, output_handler = oh, stop_on_error = 1L), \n  .         evaluate_call(expr, parsed$src[[i]], envir = envir, enclos = enclos, \n  .             debug = debug, last = i == length(out), use_try = stop_on_error != \n  .                 2L, keep_warning = keep_warning, keep_message = keep_message, \n  .             output_handler = output_handler, include_timing = include_timing), \n  .         timing_fn(handle(ev <- withCallingHandlers(withVisible(eval_with_user_handlers(expr, \n  .             envir, enclos, user_handlers)), warning = wHandler, \n  .             error = eHandler, message = mHandler))), handle(ev <- withCallingHandlers(withVisible(eval_with_user_handlers(expr, \n  .             envir, enclos, user_handlers)), warning = wHandler, \n  .             error = eHandler, message = mHandler)), try(f, silent = TRUE), \n  .         tryCatch(expr, error = function(e) {\n  .             call <- conditionCall(e)\n  .             if (!is.null(call)) {\n  .                 if (identical(call[[1L]], quote(doTryCatch))) \n  .                   call <- sys.call(-4L)\n  .                 dcall <- deparse(call, nlines = 1L)\n  .                 prefix <- paste(\"Error in\", dcall, \": \")\n  .                 LONG <- 75L\n  .                 sm <- strsplit(conditionMessage(e), \"\\n\")[[1L]]\n  .                 w <- 14L + nchar(dcall, type = \"w\") + nchar(sm[1L], \n  .                   type = \"w\")\n  .                 if (is.na(w)) \n  .                   w <- 14L + nchar(dcall, type = \"b\") + nchar(sm[1L], \n  .                     type = \"b\")\n  .                 if (w > LONG) \n  .                   prefix <- paste0(prefix, \"\\n  \")\n  .             }\n  .             else prefix <- \"Error : \"\n  .             msg <- paste0(prefix, conditionMessage(e), \"\\n\")\n  .             .Internal(seterrmessage(msg[1L]))\n  .             if (!silent && isTRUE(getOption(\"show.error.messages\"))) {\n  .                 cat(msg, file = outFile)\n  .                 .Internal(printDeferredWarnings())\n  .             }\n  .             invisible(structure(msg, class = \"try-error\", condition = e))\n  .         }), tryCatchList(expr, classes, parentenv, handlers), \n  .         tryCatchOne(expr, names, parentenv, handlers[[1L]]), \n  .         doTryCatch(return(expr), name, parentenv, handler), withCallingHandlers(withVisible(eval_with_user_handlers(expr, \n  .             envir, enclos, user_handlers)), warning = wHandler, \n  .             error = eHandler, message = mHandler), withVisible(eval_with_user_handlers(expr, \n  .             envir, enclos, user_handlers)), eval_with_user_handlers(expr, \n  .             envir, enclos, user_handlers), eval(expr, envir, \n  .             enclos), eval(expr, envir, enclos), arrange(setNames(mutate(select(read_csv(\"GalaxyMeasures.csv\"), \n  .             -Dec, -Arcmin, -Arcsec), Zh = (LambdaH - wh)/wh, \n  .             Zk = (LambdaK - wk)/wk, Vh = (Zh * c)/1000, Vk = (Zk * \n  .                 c)/1000, Vavg = (Vh + Vk)/2, Zh = round(Zh, 5), \n  .             Zk = round(Zk, 5), Vh = round(Vh, 1), Vk = round(Vk, \n  .                 1), Vavg = round(Vavg, 1), LambdaH = round(LambdaH, \n  .                 1), LambdaK = round(LambdaK, 1)), c(\"Gal #\", \n  .             \"Name\", \"RA H\", \"RA M\", \"RA S\", \"λObs H-line [Å]\", \n  .             \"λObs K-line [Å]\", \"Z H-line\", \"Z K-line\", \"Vrad H-line [km/s]\", \n  .             \"Vrad K-line [km/s]\", \"Average Vrad [km/s]\")), Vavg), \n  .         arrange.data.frame(setNames(mutate(select(read_csv(\"GalaxyMeasures.csv\"), \n  .             -Dec, -Arcmin, -Arcsec), Zh = (LambdaH - wh)/wh, \n  .             Zk = (LambdaK - wk)/wk, Vh = (Zh * c)/1000, Vk = (Zk * \n  .                 c)/1000, Vavg = (Vh + Vk)/2, Zh = round(Zh, 5), \n  .             Zk = round(Zk, 5), Vh = round(Vh, 1), Vk = round(Vk, \n  .                 1), Vavg = round(Vavg, 1), LambdaH = round(LambdaH, \n  .                 1), LambdaK = round(LambdaK, 1)), c(\"Gal #\", \n  .             \"Name\", \"RA H\", \"RA M\", \"RA S\", \"λObs H-line [Å]\", \n  .             \"λObs K-line [Å]\", \"Z H-line\", \"Z K-line\", \"Vrad H-line [km/s]\", \n  .             \"Vrad K-line [km/s]\", \"Average Vrad [km/s]\")), Vavg), \n  .         arrange_rows(.data, dots), withCallingHandlers({\n  .             transmute(new_data_frame(.data), !!!quosures)\n  .         }, error = function(cnd) {\n  .             if (inherits(cnd, \"dplyr:::mutate_error\")) {\n  .                 bullets <- gsub(\"^^--arrange_quosure_\", \"..\", \n  .                   cnd$bullets, fixed = TRUE)\n  .                 names <- names2(bullets)\n  .                 names[names == \"\"] <- \"x\"\n  .                 bullets <- set_names(bullets, names)\n  .                 parent <- cnd$parent\n  .             }\n  .             else {\n  .                 parent <- cnd\n  .                 bullets <- c()\n  .             }\n  .             bullets <- c(\"Problem with the implicit `transmute()` step. \", \n  .                 bullets)\n  .             abort(bullets, call = error_call, parent = parent)\n  .         }), transmute(new_data_frame(.data), !!!quosures), transmute.data.frame(new_data_frame(.data), \n  .             !!!quosures), mutate_cols(.data, dots, caller_env = caller_env()), \n  .         withCallingHandlers({\n  .             for (i in seq_along(dots)) {\n  .                 context_poke(\"column\", old_current_column)\n  .                 quosures <- expand_across(dots[[i]])\n  .                 quosures_results <- vector(mode = \"list\", length = length(quosures))\n  .                 for (k in seq_along(quosures)) {\n  .                   quo <- quosures[[k]]\n  .                   quo_data <- attr(quo, \"dplyr:::data\")\n  .                   if (!is.null(quo_data$column)) {\n  .                     context_poke(\"column\", quo_data$column)\n  .                   }\n  .                   chunks <- NULL\n  .                   result <- NULL\n  .                   if (quo_is_symbol(quo)) {\n  .                     name <- as_string(quo_get_expr(quo))\n  .                     if (name %in% names(new_columns)) {\n  .                       result <- new_columns[[name]]\n  .                       chunks <- mask$resolve(name)\n  .                     }\n  .                     else if (name %in% names(.data)) {\n  .                       result <- .data[[name]]\n  .                       chunks <- mask$resolve(name)\n  .                     }\n  .                     if (inherits(.data, \"rowwise_df\") && vec_is_list(result)) {\n  .                       sizes <- list_sizes(result)\n  .                       wrong <- which(sizes != 1)\n  .                       if (length(wrong)) {\n  .                         group <- wrong[1L]\n  .                         mask$set_current_group(group)\n  .                         abort(class = c(\"dplyr:::mutate_incompatible_size\", \n  .                           \"dplyr:::internal_error\"), dplyr_error_data = list(result_size = sizes[group], \n  .                           expected_size = 1))\n  .                       }\n  .                     }\n  .                   }\n  .                   else if (!quo_is_symbolic(quo) && !is.null(quo_get_expr(quo))) {\n  .                     result <- quo_get_expr(quo)\n  .                     result <- withCallingHandlers(vec_recycle(result, \n  .                       vec_size(.data)), error = function(cnd) {\n  .                       abort(class = c(\"dplyr:::mutate_constant_recycle_error\", \n  .                         \"dplyr:::internal_error\"), constant_size = vec_size(result), \n  .                         data_size = vec_size(.data))\n  .                     })\n  .                     chunks <- vec_chop(result, rows)\n  .                   }\n  .                   if (is.null(chunks)) {\n  .                     if (is.null(quo_data$column)) {\n  .                       chunks <- mask$eval_all_mutate(quo)\n  .                     }\n  .                     else {\n  .                       chunks <- withCallingHandlers(mask$eval_all_mutate(quo), \n  .                         error = function(cnd) {\n  .                           msg <- glue(\"Problem while computing column `{quo_data$name_auto}`.\")\n  .                           abort(msg, call = call(\"across\"), parent = cnd)\n  .                         })\n  .                     }\n  .                   }\n  .                   if (is.null(chunks)) {\n  .                     next\n  .                   }\n  .                   if (is.null(result)) {\n  .                     if (length(rows) == 1) {\n  .                       result <- chunks[[1]]\n  .                     }\n  .                     else {\n  .                       chunks <- dplyr_vec_cast_common(chunks, \n  .                         quo_data$name_auto)\n  .                       result <- vec_unchop(chunks, rows)\n  .                     }\n  .                   }\n  .                   quosures_results[[k]] <- list(result = result, \n  .                     chunks = chunks)\n  .                 }\n  .                 for (k in seq_along(quosures)) {\n  .                   quo <- quosures[[k]]\n  .                   quo_data <- attr(quo, \"dplyr:::data\")\n  .                   quo_result <- quosures_results[[k]]\n  .                   if (is.null(quo_result)) {\n  .                     if (quo_data$is_named) {\n  .                       name <- quo_data$name_given\n  .                       new_columns[[name]] <- zap()\n  .                       mask$remove(name)\n  .                     }\n  .                     next\n  .                   }\n  .                   result <- quo_result$result\n  .                   chunks <- quo_result$chunks\n  .                   if (!quo_data$is_named && is.data.frame(result)) {\n  .                     types <- vec_ptype(result)\n  .                     types_names <- names(types)\n  .                     chunks_extracted <- .Call(dplyr_extract_chunks, \n  .                       chunks, types)\n  .                     for (j in seq_along(types)) {\n  .                       mask$add_one(types_names[j], chunks_extracted[[j]], \n  .                         result = result[[j]])\n  .                     }\n  .                     new_columns[types_names] <- result\n  .                   }\n  .                   else {\n  .                     name <- quo_data$name_auto\n  .                     mask$add_one(name = name, chunks = chunks, \n  .                       result = result)\n  .                     new_columns[[name]] <- result\n  .                   }\n  .                 }\n  .             }\n  .         }, error = function(e) {\n  .             local_error_context(dots = dots, .index = i, mask = mask)\n  .             bullets <- c(cnd_bullet_header(\"computing\"), mutate_bullets(e))\n  .             abort(bullets, class = \"dplyr:::mutate_error\", parent = skip_internal_condition(e), \n  .                 bullets = bullets, call = error_call)\n  .         }, warning = function(w) {\n  .             if (check_muffled_warning(w)) {\n  .                 maybe_restart(\"muffleWarning\")\n  .             }\n  .             local_error_context(dots = dots, .index = i, mask = mask)\n  .             warn(c(cnd_bullet_header(\"computing\"), i = cnd_header(w), \n  .                 i = cnd_bullet_cur_group_label(what = \"warning\")))\n  .             maybe_restart(\"muffleWarning\")\n  .         }), mask$eval_all_mutate(quo), .handleSimpleError(`<fn>`, \n  .             \"object 'Vavg' not found\", base::quote(mask$eval_all_mutate(quo))), \n  .         h(simpleError(msg, call)), abort(bullets, class = \"dplyr:::mutate_error\", \n  .             parent = skip_internal_condition(e), bullets = bullets, \n  .             call = error_call)), parent = c(0L, 1L, 2L, 3L, 4L, \n  .     5L, 6L, 7L, 6L, 9L, 10L, 4L, 12L, 13L, 13L, 15L, 16L, 17L, \n  .     18L, 19L, 13L, 13L, 13L, 23L, 24L, 0L, 0L, 27L, 28L, 28L, \n  .     28L, 31L, 32L, 32L, 0L, 35L, 36L), visible = c(TRUE, TRUE, \n  .     TRUE, TRUE, TRUE, TRUE, TRUE, TRUE, TRUE, TRUE, TRUE, TRUE, \n  .     TRUE, TRUE, TRUE, TRUE, TRUE, TRUE, TRUE, TRUE, TRUE, TRUE, \n  .     TRUE, TRUE, TRUE, TRUE, TRUE, TRUE, TRUE, TRUE, TRUE, TRUE, \n  .     TRUE, TRUE, FALSE, FALSE, FALSE), namespace = c(\"IRkernel\", \n  .     NA, \"IRkernel\", NA, \"base\", \"base\", \"base\", \"base\", \"base\", \n  .     \"base\", \"base\", \"evaluate\", \"evaluate\", \"evaluate\", \"evaluate\", \n  .     \"base\", \"base\", \"base\", \"base\", \"base\", \"base\", \"base\", \"evaluate\", \n  .     \"base\", \"base\", \"dplyr\", \"dplyr\", \"dplyr\", \"base\", \"dplyr\", \n  .     \"dplyr\", \"dplyr\", \"base\", NA, \"base\", \"dplyr\", \"rlang\"), \n  .         scope = c(\"::\", NA, \"local\", NA, \"::\", \"local\", \"local\", \n  .         \"local\", \"local\", \"local\", \"local\", \"::\", \":::\", \"local\", \n  .         \"local\", \"::\", \"::\", \"local\", \"local\", \"local\", \"::\", \n  .         \"::\", \":::\", \"::\", \"::\", \"::\", \":::\", \":::\", \"::\", \"::\", \n  .         \":::\", \":::\", \"::\", NA, \"::\", \"local\", \"::\"), error_frame = c(FALSE, \n  .         FALSE, FALSE, FALSE, FALSE, FALSE, FALSE, FALSE, FALSE, \n  .         FALSE, FALSE, FALSE, FALSE, FALSE, FALSE, FALSE, FALSE, \n  .         FALSE, FALSE, FALSE, FALSE, FALSE, FALSE, FALSE, FALSE, \n  .         FALSE, FALSE, FALSE, FALSE, FALSE, TRUE, FALSE, FALSE, \n  .         FALSE, FALSE, FALSE, FALSE)), row.names = c(NA, -37L), version = 2L, class = c(\"rlang_trace\", \n  .     \"rlib_trace\", \"tbl\", \"data.frame\")), parent = structure(list(\n  .         message = \"object 'Vavg' not found\", call = mask$eval_all_mutate(quo)), class = c(\"simpleError\", \n  .     \"error\", \"condition\")), bullets = \"Problem while computing `^^--arrange_quosure_1 = Vavg`.\", \n  .     call = transmute(new_data_frame(.data), !!!quosures), use_cli_format = TRUE), class = c(\"dplyr:::mutate_error\", \n  . \"rlang_error\", \"error\", \"condition\")))",
      "16. abort(bullets, call = error_call, parent = parent)",
      "17. signal_abort(cnd, .file)"
     ]
    }
   ],
   "source": [
    "#Define constants for ease\n",
    "wh <- 3968.85\n",
    "wk <- 3933.67\n",
    "c <- 3 * 10^8\n",
    "\n",
    "#Make new columns, rename the column names, and round the calculation\n",
    "data <- read_csv(\"GalaxyMeasures.csv\") |>\n",
    "    select(-Dec, -Arcmin, -Arcsec) |>\n",
    "    mutate(Zh = (LambdaH - wh)/wh,\n",
    "    Zk = (LambdaK - wk)/wk,\n",
    "    Vh = (Zh * c)/1000,\n",
    "    Vk = (Zk * c)/1000,\n",
    "    Vavg = (Vh + Vk)/2,\n",
    "    Zh = round(Zh, 5),\n",
    "    Zk = round(Zk, 5),\n",
    "    Vh = round(Vh, 1),\n",
    "    Vk = round(Vk, 1),\n",
    "    Vavg = round(Vavg, 1),\n",
    "    LambdaH = round(LambdaH, 1),\n",
    "    LambdaK = round(LambdaK, 1)) |>\n",
    "    arrange(Vavg) |>\n",
    "    setNames(c('Gal #', 'Name', 'RA H', 'RA M', 'RA S', 'λObs H-line [Å]', 'λObs K-line [Å]', 'Z H-line', 'Z K-line', 'Vrad H-line [km/s]', 'Vrad K-line [km/s]', 'Average Vrad [km/s]'))\n",
    "    arrange(Vavg)\n",
    "head(data)\n",
    "\n",
    "#Print table to png\n",
    "png(\"table.png\", height = 4700, width = 900)\n",
    "p<-tableGrob(data)\n",
    "grid.arrange(p)\n",
    "dev.off()\n"
   ]
  },
  {
   "cell_type": "code",
   "execution_count": null,
   "metadata": {
    "vscode": {
     "languageId": "r"
    }
   },
   "outputs": [],
   "source": []
  }
 ],
 "metadata": {
  "kernelspec": {
   "display_name": "R",
   "language": "R",
   "name": "ir"
  },
  "language_info": {
   "codemirror_mode": "r",
   "file_extension": ".r",
   "mimetype": "text/x-r-source",
   "name": "R",
   "pygments_lexer": "r",
   "version": "4.2.2"
  },
  "orig_nbformat": 4
 },
 "nbformat": 4,
 "nbformat_minor": 2
}
