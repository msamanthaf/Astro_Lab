{
 "cells": [
  {
   "cell_type": "code",
   "execution_count": 2,
   "metadata": {
    "vscode": {
     "languageId": "r"
    }
   },
   "outputs": [
    {
     "name": "stderr",
     "output_type": "stream",
     "text": [
      "── \u001b[1mAttaching packages\u001b[22m ─────────────────────────────────────── tidyverse 1.3.2 ──\n",
      "\u001b[32m✔\u001b[39m \u001b[34mggplot2\u001b[39m 3.3.6     \u001b[32m✔\u001b[39m \u001b[34mpurrr  \u001b[39m 0.3.4\n",
      "\u001b[32m✔\u001b[39m \u001b[34mtibble \u001b[39m 3.1.8     \u001b[32m✔\u001b[39m \u001b[34mdplyr  \u001b[39m 1.0.9\n",
      "\u001b[32m✔\u001b[39m \u001b[34mtidyr  \u001b[39m 1.2.0     \u001b[32m✔\u001b[39m \u001b[34mstringr\u001b[39m 1.4.1\n",
      "\u001b[32m✔\u001b[39m \u001b[34mreadr  \u001b[39m 2.1.2     \u001b[32m✔\u001b[39m \u001b[34mforcats\u001b[39m 0.5.2\n",
      "── \u001b[1mConflicts\u001b[22m ────────────────────────────────────────── tidyverse_conflicts() ──\n",
      "\u001b[31m✖\u001b[39m \u001b[34mdplyr\u001b[39m::\u001b[32mfilter()\u001b[39m masks \u001b[34mstats\u001b[39m::filter()\n",
      "\u001b[31m✖\u001b[39m \u001b[34mdplyr\u001b[39m::\u001b[32mlag()\u001b[39m    masks \u001b[34mstats\u001b[39m::lag()\n",
      "Warning message:\n",
      "\"package 'gridExtra' was built under R version 4.2.3\"\n",
      "\n",
      "Attaching package: 'gridExtra'\n",
      "\n",
      "\n",
      "The following object is masked from 'package:dplyr':\n",
      "\n",
      "    combine\n",
      "\n",
      "\n"
     ]
    }
   ],
   "source": [
    "library(tidyverse)\n",
    "library(gridExtra)"
   ]
  },
  {
   "cell_type": "code",
   "execution_count": 4,
   "metadata": {
    "vscode": {
     "languageId": "r"
    }
   },
   "outputs": [
    {
     "name": "stderr",
     "output_type": "stream",
     "text": [
      "\u001b[1mRows: \u001b[22m\u001b[34m216\u001b[39m \u001b[1mColumns: \u001b[22m\u001b[34m10\u001b[39m\n",
      "\u001b[36m──\u001b[39m \u001b[1mColumn specification\u001b[22m \u001b[36m────────────────────────────────────────────────────────\u001b[39m\n",
      "\u001b[1mDelimiter:\u001b[22m \",\"\n",
      "\u001b[31mchr\u001b[39m (1): Name\n",
      "\u001b[32mdbl\u001b[39m (9): Galaxy Number, RA H, RA M, RA S, Dec, Arcmin, Arcsec, LambdaH, LambdaK\n",
      "\n",
      "\u001b[36mℹ\u001b[39m Use `spec()` to retrieve the full column specification for this data.\n",
      "\u001b[36mℹ\u001b[39m Specify the column types or set `show_col_types = FALSE` to quiet this message.\n"
     ]
    },
    {
     "data": {
      "text/html": [
       "<table class=\"dataframe\">\n",
       "<caption>A tibble: 6 × 12</caption>\n",
       "<thead>\n",
       "\t<tr><th scope=col>Gal #</th><th scope=col>Name</th><th scope=col>RA H</th><th scope=col>RA M</th><th scope=col>RA S</th><th scope=col>λObs H-line [Å]</th><th scope=col>λObs K-line [Å]</th><th scope=col>Z H-line</th><th scope=col>Z K-line</th><th scope=col>Vrad H-line [km/s]</th><th scope=col>Vrad K-line [km/s]</th><th scope=col>Average Vrad [km/s]</th></tr>\n",
       "\t<tr><th scope=col>&lt;dbl&gt;</th><th scope=col>&lt;chr&gt;</th><th scope=col>&lt;dbl&gt;</th><th scope=col>&lt;dbl&gt;</th><th scope=col>&lt;dbl&gt;</th><th scope=col>&lt;dbl&gt;</th><th scope=col>&lt;dbl&gt;</th><th scope=col>&lt;dbl&gt;</th><th scope=col>&lt;dbl&gt;</th><th scope=col>&lt;dbl&gt;</th><th scope=col>&lt;dbl&gt;</th><th scope=col>&lt;dbl&gt;</th></tr>\n",
       "</thead>\n",
       "<tbody>\n",
       "\t<tr><td>1</td><td>1202 3127</td><td>12</td><td>2</td><td>10.2</td><td>    NA</td><td>    NA</td><td>     NA</td><td>     NA</td><td>    NA</td><td>    NA</td><td>    NA</td></tr>\n",
       "\t<tr><td>2</td><td>NGC 4080 </td><td>12</td><td>2</td><td>18.5</td><td>    NA</td><td>    NA</td><td>     NA</td><td>     NA</td><td>    NA</td><td>    NA</td><td>    NA</td></tr>\n",
       "\t<tr><td>3</td><td>NGC 4104 </td><td>12</td><td>4</td><td> 6.0</td><td>    NA</td><td>    NA</td><td>     NA</td><td>     NA</td><td>    NA</td><td>    NA</td><td>    NA</td></tr>\n",
       "\t<tr><td>4</td><td>NGC 4131 </td><td>12</td><td>6</td><td>12.0</td><td>4018.1</td><td>3982.2</td><td>0.01241</td><td>0.01234</td><td>3722.6</td><td>3700.9</td><td>3711.8</td></tr>\n",
       "\t<tr><td>5</td><td>NGC 4132 </td><td>12</td><td>6</td><td>30.0</td><td>4023.3</td><td>3987.4</td><td>0.01371</td><td>0.01366</td><td>4112.7</td><td>4098.9</td><td>4105.8</td></tr>\n",
       "\t<tr><td>6</td><td>NGC 4134 </td><td>12</td><td>6</td><td>36.0</td><td>4018.5</td><td>3983.3</td><td>0.01250</td><td>0.01261</td><td>3750.8</td><td>3781.6</td><td>3766.2</td></tr>\n",
       "</tbody>\n",
       "</table>\n"
      ],
      "text/latex": [
       "A tibble: 6 × 12\n",
       "\\begin{tabular}{llllllllllll}\n",
       " Gal \\# & Name & RA H & RA M & RA S & λObs H-line {[}Å{]} & λObs K-line {[}Å{]} & Z H-line & Z K-line & Vrad H-line {[}km/s{]} & Vrad K-line {[}km/s{]} & Average Vrad {[}km/s{]}\\\\\n",
       " <dbl> & <chr> & <dbl> & <dbl> & <dbl> & <dbl> & <dbl> & <dbl> & <dbl> & <dbl> & <dbl> & <dbl>\\\\\n",
       "\\hline\n",
       "\t 1 & 1202 3127 & 12 & 2 & 10.2 &     NA &     NA &      NA &      NA &     NA &     NA &     NA\\\\\n",
       "\t 2 & NGC 4080  & 12 & 2 & 18.5 &     NA &     NA &      NA &      NA &     NA &     NA &     NA\\\\\n",
       "\t 3 & NGC 4104  & 12 & 4 &  6.0 &     NA &     NA &      NA &      NA &     NA &     NA &     NA\\\\\n",
       "\t 4 & NGC 4131  & 12 & 6 & 12.0 & 4018.1 & 3982.2 & 0.01241 & 0.01234 & 3722.6 & 3700.9 & 3711.8\\\\\n",
       "\t 5 & NGC 4132  & 12 & 6 & 30.0 & 4023.3 & 3987.4 & 0.01371 & 0.01366 & 4112.7 & 4098.9 & 4105.8\\\\\n",
       "\t 6 & NGC 4134  & 12 & 6 & 36.0 & 4018.5 & 3983.3 & 0.01250 & 0.01261 & 3750.8 & 3781.6 & 3766.2\\\\\n",
       "\\end{tabular}\n"
      ],
      "text/markdown": [
       "\n",
       "A tibble: 6 × 12\n",
       "\n",
       "| Gal # &lt;dbl&gt; | Name &lt;chr&gt; | RA H &lt;dbl&gt; | RA M &lt;dbl&gt; | RA S &lt;dbl&gt; | λObs H-line [Å] &lt;dbl&gt; | λObs K-line [Å] &lt;dbl&gt; | Z H-line &lt;dbl&gt; | Z K-line &lt;dbl&gt; | Vrad H-line [km/s] &lt;dbl&gt; | Vrad K-line [km/s] &lt;dbl&gt; | Average Vrad [km/s] &lt;dbl&gt; |\n",
       "|---|---|---|---|---|---|---|---|---|---|---|---|\n",
       "| 1 | 1202 3127 | 12 | 2 | 10.2 |     NA |     NA |      NA |      NA |     NA |     NA |     NA |\n",
       "| 2 | NGC 4080  | 12 | 2 | 18.5 |     NA |     NA |      NA |      NA |     NA |     NA |     NA |\n",
       "| 3 | NGC 4104  | 12 | 4 |  6.0 |     NA |     NA |      NA |      NA |     NA |     NA |     NA |\n",
       "| 4 | NGC 4131  | 12 | 6 | 12.0 | 4018.1 | 3982.2 | 0.01241 | 0.01234 | 3722.6 | 3700.9 | 3711.8 |\n",
       "| 5 | NGC 4132  | 12 | 6 | 30.0 | 4023.3 | 3987.4 | 0.01371 | 0.01366 | 4112.7 | 4098.9 | 4105.8 |\n",
       "| 6 | NGC 4134  | 12 | 6 | 36.0 | 4018.5 | 3983.3 | 0.01250 | 0.01261 | 3750.8 | 3781.6 | 3766.2 |\n",
       "\n"
      ],
      "text/plain": [
       "  Gal # Name      RA H RA M RA S λObs H-line [Å] λObs K-line [Å] Z H-line\n",
       "1 1     1202 3127 12   2    10.2     NA              NA               NA \n",
       "2 2     NGC 4080  12   2    18.5     NA              NA               NA \n",
       "3 3     NGC 4104  12   4     6.0     NA              NA               NA \n",
       "4 4     NGC 4131  12   6    12.0 4018.1          3982.2          0.01241 \n",
       "5 5     NGC 4132  12   6    30.0 4023.3          3987.4          0.01371 \n",
       "6 6     NGC 4134  12   6    36.0 4018.5          3983.3          0.01250 \n",
       "  Z K-line Vrad H-line [km/s] Vrad K-line [km/s] Average Vrad [km/s]\n",
       "1      NA      NA                 NA                 NA             \n",
       "2      NA      NA                 NA                 NA             \n",
       "3      NA      NA                 NA                 NA             \n",
       "4 0.01234  3722.6             3700.9             3711.8             \n",
       "5 0.01366  4112.7             4098.9             4105.8             \n",
       "6 0.01261  3750.8             3781.6             3766.2             "
      ]
     },
     "metadata": {},
     "output_type": "display_data"
    },
    {
     "data": {
      "text/html": [
       "<strong>png:</strong> 2"
      ],
      "text/latex": [
       "\\textbf{png:} 2"
      ],
      "text/markdown": [
       "**png:** 2"
      ],
      "text/plain": [
       "png \n",
       "  2 "
      ]
     },
     "metadata": {},
     "output_type": "display_data"
    }
   ],
   "source": [
    "wh <- 3968.85\n",
    "wk <- 3933.67\n",
    "c <- 3 * 10^8\n",
    "\n",
    "data <- read_csv(\"GalaxyMeasures.csv\") |>\n",
    "    select(-Dec, -Arcmin, -Arcsec) |>\n",
    "    mutate(Zh = (LambdaH - wh)/wh,\n",
    "    Zk = (LambdaK - wk)/wk,\n",
    "    Vh = (Zh * c)/1000,\n",
    "    Vk = (Zk * c)/1000,\n",
    "    Vavg = (Vh + Vk)/2,\n",
    "    Zh = round(Zh, 5),\n",
    "    Zk = round(Zk, 5),\n",
    "    Vh = round(Vh, 1),\n",
    "    Vk = round(Vk, 1),\n",
    "    Vavg = round(Vavg, 1),\n",
    "    LambdaH = round(LambdaH, 1),\n",
    "    LambdaK = round(LambdaK, 1)) |>\n",
    "    setNames(c('Gal #', 'Name', 'RA H', 'RA M', 'RA S', 'λObs H-line [Å]', 'λObs K-line [Å]', 'Z H-line', 'Z K-line', 'Vrad H-line [km/s]', 'Vrad K-line [km/s]', 'Average Vrad [km/s]'))\n",
    "head(data)\n",
    "\n",
    "png(\"table.png\", height = 4700, width = 900)\n",
    "p<-tableGrob(data)\n",
    "grid.arrange(p)\n",
    "dev.off()\n",
    "\n",
    "write.csv(data, file = 'table.csv')"
   ]
  },
  {
   "cell_type": "code",
   "execution_count": null,
   "metadata": {
    "vscode": {
     "languageId": "r"
    }
   },
   "outputs": [],
   "source": []
  }
 ],
 "metadata": {
  "kernelspec": {
   "display_name": "R",
   "language": "R",
   "name": "ir"
  },
  "language_info": {
   "codemirror_mode": "r",
   "file_extension": ".r",
   "mimetype": "text/x-r-source",
   "name": "R",
   "pygments_lexer": "r",
   "version": "4.2.2"
  },
  "orig_nbformat": 4
 },
 "nbformat": 4,
 "nbformat_minor": 2
}
